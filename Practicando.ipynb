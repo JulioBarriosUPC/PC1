{
  "nbformat": 4,
  "nbformat_minor": 0,
  "metadata": {
    "colab": {
      "name": "Untitled17.ipynb",
      "provenance": [],
      "authorship_tag": "ABX9TyMODcq7YPixZtYMVqqQe0xI",
      "include_colab_link": true
    },
    "kernelspec": {
      "name": "python3",
      "display_name": "Python 3"
    },
    "language_info": {
      "name": "python"
    }
  },
  "cells": [
    {
      "cell_type": "markdown",
      "metadata": {
        "id": "view-in-github",
        "colab_type": "text"
      },
      "source": [
        "<a href=\"https://colab.research.google.com/github/JulioBarriosUPC/PC1/blob/main/Practicando.ipynb\" target=\"_parent\"><img src=\"https://colab.research.google.com/assets/colab-badge.svg\" alt=\"Open In Colab\"/></a>"
      ]
    },
    {
      "cell_type": "code",
      "metadata": {
        "id": "vr8XRqx6x1tt"
      },
      "source": [
        "import graphviz as gv\n",
        "import numpy as np\n",
        "import pandas as pd"
      ],
      "execution_count": 39,
      "outputs": []
    },
    {
      "cell_type": "code",
      "metadata": {
        "id": "p1vokd_ex3Ez"
      },
      "source": [
        "def adjmShow(M, labels=None, directed=False, weighted=False, layout=\"neato\"):\n",
        "  g = gv.Digraph(\"G\") if directed else gv.Graph(\"G\")\n",
        "  g.graph_attr[\"layout\"] = layout\n",
        "  g.node_attr[\"style\"] = \"filled\"\n",
        "  g.node_attr[\"color\"] = \"orange\"\n",
        "  n = len(M)\n",
        "  for u in range(n):\n",
        "    g.node(str(u), labels[u] if labels else str(u))\n",
        "  for u in range(n):\n",
        "    for v in range(0 if directed else u, n):\n",
        "      if weighted:\n",
        "        if not np.isnan(M[u, v]):\n",
        "          g.edge(str(u), str(v), f\"{M[u, v]:.0f}\")\n",
        "      else:\n",
        "        if M[u, v] == 1:\n",
        "          g.edge(str(u), str(v))\n",
        "  return g"
      ],
      "execution_count": 2,
      "outputs": []
    },
    {
      "cell_type": "code",
      "metadata": {
        "id": "ZWP56osFx5xj"
      },
      "source": [
        "def adjlShow(L, labels=None, directed=False, weighted=False, layout=\"neato\"):\n",
        "  g = gv.Digraph(\"G\") if directed else gv.Graph(\"G\")\n",
        "  g.graph_attr[\"layout\"] = layout\n",
        "  g.node_attr[\"style\"] = \"filled\"\n",
        "  g.node_attr[\"color\"] = \"orange\"\n",
        "  n = len(L)\n",
        "  for u in range(n):\n",
        "    g.node(str(u), labels[u] if labels else str(u))\n",
        "  added = set()\n",
        "  if weighted:\n",
        "    for u in range(n):\n",
        "      for v, w in L[u]:\n",
        "        if not directed and not f\"{u},{v}\" in added:\n",
        "          added.add(f\"{u},{v}\")\n",
        "          added.add(f\"{v},{u}\")\n",
        "          g.edge(str(u), str(v), str(w))\n",
        "        elif directed:\n",
        "          g.edge(str(u), str(v), str(w))\n",
        "  else:\n",
        "    for u in range(n):\n",
        "      for v in L[u]:\n",
        "        if not directed and not f\"{u},{v}\" in added:\n",
        "          added.add(f\"{u},{v}\")\n",
        "          added.add(f\"{v},{u}\")\n",
        "          g.edge(str(u), str(v))\n",
        "        elif directed:\n",
        "          g.edge(str(u), str(v))\n",
        "  return g"
      ],
      "execution_count": 3,
      "outputs": []
    },
    {
      "cell_type": "code",
      "metadata": {
        "id": "AwPcloZYx-JD"
      },
      "source": [
        "def readAdjl(fn, haslabels=False, weighted=False, sep=\"|\"):\n",
        "  with open(fn) as f:\n",
        "    labels = None\n",
        "    if haslabels:\n",
        "      labels = f.readline().strip().split()\n",
        "    L = []\n",
        "    for line in f:\n",
        "      if weighted:\n",
        "        L.append([tuple(map(int, p.split(sep))) for p in line.strip().split()])\n",
        "        # line => \"1|3 2|5 4|4\" ==> [(1, 3), (2, 5), (4, 4)]\n",
        "      else: \n",
        "        L.append(list(map(int, line.strip().split()))) # \"1 3 5\" => [1, 3, 5]\n",
        "        # L.append([int(x) for x in line.strip().split()])\n",
        "  return L, labels"
      ],
      "execution_count": 4,
      "outputs": []
    },
    {
      "cell_type": "code",
      "metadata": {
        "id": "X5qbEFxv3bds"
      },
      "source": [
        "def DFS(Grafo, origen):\n",
        "  n = len(Grafo)\n",
        "  visited = [False]*n\n",
        "  padre = [None]*n\n",
        "\n",
        "  def _DFS(origen1):\n",
        "    if not visited[origen1]:\n",
        "      visited[origen1] = True\n",
        "\n",
        "      for vecinos in Grafo[origen1]:\n",
        "        if not visited[vecinos]:\n",
        "          padre[vecinos] = origen1\n",
        "          _DFS(vecinos)\n",
        "\n",
        "  _DFS(origen)\n",
        "\n",
        "  return padre"
      ],
      "execution_count": 40,
      "outputs": []
    },
    {
      "cell_type": "code",
      "metadata": {
        "id": "aBHEuDmwx-CT"
      },
      "source": [
        "def BFS(Grafo, origen):\n",
        "  n = len(Grafo)\n",
        "  visited = [False]*n # n elementos falsos\n",
        "  padre = [None]*n\n",
        "  \n",
        "  cola = [origen]\n",
        "  visited[origen] = True\n",
        "\n",
        "  while cola:\n",
        "    elemento = cola.pop(0)\n",
        "    for vecino in Grafo[elemento]:\n",
        "      if not visited[vecino]:\n",
        "        visited[vecino] = True\n",
        "        padre[vecino] = elemento\n",
        "        cola.append(vecino)\n",
        "  \n",
        "  return padre"
      ],
      "execution_count": 16,
      "outputs": []
    },
    {
      "cell_type": "code",
      "metadata": {
        "colab": {
          "base_uri": "https://localhost:8080/"
        },
        "id": "zl_MZOpiyI6M",
        "outputId": "76ff5df8-200b-4c46-8963-3623833e4d9d"
      },
      "source": [
        "%%file Ejemplo\n",
        "1 2\n",
        "2 3\n",
        "3 4\n",
        "4 2\n",
        "5 4\n",
        "6 5 7\n",
        "7 6"
      ],
      "execution_count": 46,
      "outputs": [
        {
          "output_type": "stream",
          "name": "stdout",
          "text": [
            "Overwriting Ejemplo\n"
          ]
        }
      ]
    },
    {
      "cell_type": "code",
      "metadata": {
        "colab": {
          "base_uri": "https://localhost:8080/",
          "height": 567
        },
        "id": "OmHv2tHCyvZM",
        "outputId": "0dc450b9-d46d-4410-c059-7c6685ec8ebb"
      },
      "source": [
        "Grafo, _ = readAdjl(\"Ejemplo\")\n",
        "for i, edges in enumerate(Grafo):\n",
        "  print(f\"{i:2}: {edges}\")\n",
        "adjlShow(Grafo)"
      ],
      "execution_count": 48,
      "outputs": [
        {
          "output_type": "stream",
          "name": "stdout",
          "text": [
            " 0: [1, 2]\n",
            " 1: [2, 3]\n",
            " 2: [3, 4]\n",
            " 3: [4, 2]\n",
            " 4: [5, 4]\n",
            " 5: [6, 5, 7]\n",
            " 6: [7, 6]\n"
          ]
        },
        {
          "output_type": "execute_result",
          "data": {
            "text/plain": [
              "<graphviz.dot.Graph at 0x7f1b3dc6a0d0>"
            ],
            "image/svg+xml": "<?xml version=\"1.0\" encoding=\"UTF-8\" standalone=\"no\"?>\n<!DOCTYPE svg PUBLIC \"-//W3C//DTD SVG 1.1//EN\"\n \"http://www.w3.org/Graphics/SVG/1.1/DTD/svg11.dtd\">\n<!-- Generated by graphviz version 2.40.1 (20161225.0304)\n -->\n<!-- Title: G Pages: 1 -->\n<svg width=\"178pt\" height=\"318pt\"\n viewBox=\"0.00 0.00 177.65 318.38\" xmlns=\"http://www.w3.org/2000/svg\" xmlns:xlink=\"http://www.w3.org/1999/xlink\">\n<g id=\"graph0\" class=\"graph\" transform=\"scale(1 1) rotate(0) translate(4 314.3792)\">\n<title>G</title>\n<polygon fill=\"#ffffff\" stroke=\"transparent\" points=\"-4,4 -4,-314.3792 173.6512,-314.3792 173.6512,4 -4,4\"/>\n<!-- 0 -->\n<g id=\"node1\" class=\"node\">\n<title>0</title>\n<ellipse fill=\"#ffa500\" stroke=\"#ffa500\" cx=\"27\" cy=\"-287.707\" rx=\"27\" ry=\"18\"/>\n<text text-anchor=\"middle\" x=\"27\" y=\"-284.007\" font-family=\"Times,serif\" font-size=\"14.00\" fill=\"#000000\">0</text>\n</g>\n<!-- 1 -->\n<g id=\"node2\" class=\"node\">\n<title>1</title>\n<ellipse fill=\"#ffa500\" stroke=\"#ffa500\" cx=\"100.7137\" cy=\"-292.3792\" rx=\"27\" ry=\"18\"/>\n<text text-anchor=\"middle\" x=\"100.7137\" y=\"-288.6792\" font-family=\"Times,serif\" font-size=\"14.00\" fill=\"#000000\">1</text>\n</g>\n<!-- 0&#45;&#45;1 -->\n<g id=\"edge1\" class=\"edge\">\n<title>0&#45;&#45;1</title>\n<path fill=\"none\" stroke=\"#000000\" d=\"M54.0297,-289.4202C60.4397,-289.8265 67.2775,-290.2599 73.6873,-290.6662\"/>\n</g>\n<!-- 2 -->\n<g id=\"node3\" class=\"node\">\n<title>2</title>\n<ellipse fill=\"#ffa500\" stroke=\"#ffa500\" cx=\"68.6477\" cy=\"-226.6571\" rx=\"27\" ry=\"18\"/>\n<text text-anchor=\"middle\" x=\"68.6477\" y=\"-222.9571\" font-family=\"Times,serif\" font-size=\"14.00\" fill=\"#000000\">2</text>\n</g>\n<!-- 0&#45;&#45;2 -->\n<g id=\"edge2\" class=\"edge\">\n<title>0&#45;&#45;2</title>\n<path fill=\"none\" stroke=\"#000000\" d=\"M38.3804,-271.0248C44.257,-262.4106 51.4065,-251.9304 57.281,-243.3191\"/>\n</g>\n<!-- 1&#45;&#45;2 -->\n<g id=\"edge3\" class=\"edge\">\n<title>1&#45;&#45;2</title>\n<path fill=\"none\" stroke=\"#000000\" d=\"M92.2888,-275.1115C87.6127,-265.5275 81.8126,-253.6397 77.1277,-244.0377\"/>\n</g>\n<!-- 3 -->\n<g id=\"node4\" class=\"node\">\n<title>3</title>\n<ellipse fill=\"#ffa500\" stroke=\"#ffa500\" cx=\"139.6407\" cy=\"-225.9502\" rx=\"27\" ry=\"18\"/>\n<text text-anchor=\"middle\" x=\"139.6407\" y=\"-222.2502\" font-family=\"Times,serif\" font-size=\"14.00\" fill=\"#000000\">3</text>\n</g>\n<!-- 1&#45;&#45;3 -->\n<g id=\"edge4\" class=\"edge\">\n<title>1&#45;&#45;3</title>\n<path fill=\"none\" stroke=\"#000000\" d=\"M110.7384,-275.2721C116.5954,-265.2771 123.957,-252.7145 129.7847,-242.7694\"/>\n</g>\n<!-- 2&#45;&#45;3 -->\n<g id=\"edge5\" class=\"edge\">\n<title>2&#45;&#45;3</title>\n<path fill=\"none\" stroke=\"#000000\" d=\"M95.8924,-226.3858C101.3667,-226.3313 107.1182,-226.274 112.5861,-226.2196\"/>\n</g>\n<!-- 4 -->\n<g id=\"node5\" class=\"node\">\n<title>4</title>\n<ellipse fill=\"#ffa500\" stroke=\"#ffa500\" cx=\"102.8386\" cy=\"-160.0102\" rx=\"27\" ry=\"18\"/>\n<text text-anchor=\"middle\" x=\"102.8386\" y=\"-156.3102\" font-family=\"Times,serif\" font-size=\"14.00\" fill=\"#000000\">4</text>\n</g>\n<!-- 2&#45;&#45;4 -->\n<g id=\"edge6\" class=\"edge\">\n<title>2&#45;&#45;4</title>\n<path fill=\"none\" stroke=\"#000000\" d=\"M77.4527,-209.4939C82.518,-199.6204 88.8644,-187.2494 93.9446,-177.3469\"/>\n</g>\n<!-- 3&#45;&#45;4 -->\n<g id=\"edge7\" class=\"edge\">\n<title>3&#45;&#45;4</title>\n<path fill=\"none\" stroke=\"#000000\" d=\"M130.1632,-208.969C124.7111,-199.2002 117.88,-186.9605 112.4119,-177.163\"/>\n</g>\n<!-- 4&#45;&#45;4 -->\n<g id=\"edge9\" class=\"edge\">\n<title>4&#45;&#45;4</title>\n<path fill=\"none\" stroke=\"#000000\" d=\"M128.2821,-166.7009C138.8664,-167.1623 147.8386,-164.9321 147.8386,-160.0102 147.8386,-155.0883 138.8664,-152.8581 128.2821,-153.3195\"/>\n</g>\n<!-- 5 -->\n<g id=\"node6\" class=\"node\">\n<title>5</title>\n<ellipse fill=\"#ffa500\" stroke=\"#ffa500\" cx=\"104.1505\" cy=\"-84.6523\" rx=\"27\" ry=\"18\"/>\n<text text-anchor=\"middle\" x=\"104.1505\" y=\"-80.9523\" font-family=\"Times,serif\" font-size=\"14.00\" fill=\"#000000\">5</text>\n</g>\n<!-- 4&#45;&#45;5 -->\n<g id=\"edge8\" class=\"edge\">\n<title>4&#45;&#45;5</title>\n<path fill=\"none\" stroke=\"#000000\" d=\"M103.1562,-141.7681C103.3624,-129.92 103.6302,-114.5409 103.8358,-102.7264\"/>\n</g>\n<!-- 5&#45;&#45;5 -->\n<g id=\"edge11\" class=\"edge\">\n<title>5&#45;&#45;5</title>\n<path fill=\"none\" stroke=\"#000000\" d=\"M129.594,-91.343C140.1783,-91.8044 149.1505,-89.5742 149.1505,-84.6523 149.1505,-79.7304 140.1783,-77.5002 129.594,-77.9616\"/>\n</g>\n<!-- 6 -->\n<g id=\"node7\" class=\"node\">\n<title>6</title>\n<ellipse fill=\"#ffa500\" stroke=\"#ffa500\" cx=\"71.8318\" cy=\"-18\" rx=\"27\" ry=\"18\"/>\n<text text-anchor=\"middle\" x=\"71.8318\" y=\"-14.3\" font-family=\"Times,serif\" font-size=\"14.00\" fill=\"#000000\">6</text>\n</g>\n<!-- 5&#45;&#45;6 -->\n<g id=\"edge10\" class=\"edge\">\n<title>5&#45;&#45;6</title>\n<path fill=\"none\" stroke=\"#000000\" d=\"M95.8276,-67.4877C91.0397,-57.6134 85.0407,-45.2415 80.2388,-35.3381\"/>\n</g>\n<!-- 7 -->\n<g id=\"node8\" class=\"node\">\n<title>7</title>\n<ellipse fill=\"#ffa500\" stroke=\"#ffa500\" cx=\"142.6512\" cy=\"-21.4576\" rx=\"27\" ry=\"18\"/>\n<text text-anchor=\"middle\" x=\"142.6512\" y=\"-17.7576\" font-family=\"Times,serif\" font-size=\"14.00\" fill=\"#000000\">7</text>\n</g>\n<!-- 5&#45;&#45;7 -->\n<g id=\"edge12\" class=\"edge\">\n<title>5&#45;&#45;7</title>\n<path fill=\"none\" stroke=\"#000000\" d=\"M114.468,-67.7173C119.9919,-58.6503 126.7769,-47.5135 132.3052,-38.4394\"/>\n</g>\n<!-- 6&#45;&#45;6 -->\n<g id=\"edge14\" class=\"edge\">\n<title>6&#45;&#45;6</title>\n<path fill=\"none\" stroke=\"#000000\" d=\"M97.2752,-24.6907C107.8596,-25.1521 116.8318,-22.9219 116.8318,-18 116.8318,-13.0781 107.8596,-10.8479 97.2752,-11.3093\"/>\n</g>\n<!-- 6&#45;&#45;7 -->\n<g id=\"edge13\" class=\"edge\">\n<title>6&#45;&#45;7</title>\n<path fill=\"none\" stroke=\"#000000\" d=\"M99.0098,-19.3269C104.4708,-19.5935 110.2083,-19.8736 115.6627,-20.1399\"/>\n</g>\n</g>\n</svg>\n"
          },
          "metadata": {},
          "execution_count": 48
        }
      ]
    },
    {
      "cell_type": "code",
      "metadata": {
        "colab": {
          "base_uri": "https://localhost:8080/",
          "height": 288
        },
        "id": "RQWzUjHpy4rk",
        "outputId": "94fbafcf-f466-4b7a-a0bc-cbc6503d6506"
      },
      "source": [
        "BFS(Grafo, 0)"
      ],
      "execution_count": 47,
      "outputs": [
        {
          "output_type": "error",
          "ename": "IndexError",
          "evalue": "ignored",
          "traceback": [
            "\u001b[0;31m---------------------------------------------------------------------------\u001b[0m",
            "\u001b[0;31mIndexError\u001b[0m                                Traceback (most recent call last)",
            "\u001b[0;32m<ipython-input-47-3740d6225bf5>\u001b[0m in \u001b[0;36m<module>\u001b[0;34m()\u001b[0m\n\u001b[0;32m----> 1\u001b[0;31m \u001b[0mBFS\u001b[0m\u001b[0;34m(\u001b[0m\u001b[0mGrafo\u001b[0m\u001b[0;34m,\u001b[0m \u001b[0;36m0\u001b[0m\u001b[0;34m)\u001b[0m\u001b[0;34m\u001b[0m\u001b[0;34m\u001b[0m\u001b[0m\n\u001b[0m",
            "\u001b[0;32m<ipython-input-16-6a1cb8ca5749>\u001b[0m in \u001b[0;36mBFS\u001b[0;34m(Grafo, origen)\u001b[0m\n\u001b[1;32m     10\u001b[0m     \u001b[0melemento\u001b[0m \u001b[0;34m=\u001b[0m \u001b[0mcola\u001b[0m\u001b[0;34m.\u001b[0m\u001b[0mpop\u001b[0m\u001b[0;34m(\u001b[0m\u001b[0;36m0\u001b[0m\u001b[0;34m)\u001b[0m\u001b[0;34m\u001b[0m\u001b[0;34m\u001b[0m\u001b[0m\n\u001b[1;32m     11\u001b[0m     \u001b[0;32mfor\u001b[0m \u001b[0mvecino\u001b[0m \u001b[0;32min\u001b[0m \u001b[0mGrafo\u001b[0m\u001b[0;34m[\u001b[0m\u001b[0melemento\u001b[0m\u001b[0;34m]\u001b[0m\u001b[0;34m:\u001b[0m\u001b[0;34m\u001b[0m\u001b[0;34m\u001b[0m\u001b[0m\n\u001b[0;32m---> 12\u001b[0;31m       \u001b[0;32mif\u001b[0m \u001b[0;32mnot\u001b[0m \u001b[0mvisited\u001b[0m\u001b[0;34m[\u001b[0m\u001b[0mvecino\u001b[0m\u001b[0;34m]\u001b[0m\u001b[0;34m:\u001b[0m\u001b[0;34m\u001b[0m\u001b[0;34m\u001b[0m\u001b[0m\n\u001b[0m\u001b[1;32m     13\u001b[0m         \u001b[0mvisited\u001b[0m\u001b[0;34m[\u001b[0m\u001b[0mvecino\u001b[0m\u001b[0;34m]\u001b[0m \u001b[0;34m=\u001b[0m \u001b[0;32mTrue\u001b[0m\u001b[0;34m\u001b[0m\u001b[0;34m\u001b[0m\u001b[0m\n\u001b[1;32m     14\u001b[0m         \u001b[0mpadre\u001b[0m\u001b[0;34m[\u001b[0m\u001b[0mvecino\u001b[0m\u001b[0;34m]\u001b[0m \u001b[0;34m=\u001b[0m \u001b[0melemento\u001b[0m\u001b[0;34m\u001b[0m\u001b[0;34m\u001b[0m\u001b[0m\n",
            "\u001b[0;31mIndexError\u001b[0m: list index out of range"
          ]
        }
      ]
    }
  ]
}